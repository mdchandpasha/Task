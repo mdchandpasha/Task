{
  "nbformat": 4,
  "nbformat_minor": 0,
  "metadata": {
    "colab": {
      "provenance": [],
      "authorship_tag": "ABX9TyOPbfzfWMrBr7loiwJh73rx",
      "include_colab_link": true
    },
    "kernelspec": {
      "name": "python3",
      "display_name": "Python 3"
    },
    "language_info": {
      "name": "python"
    }
  },
  "cells": [
    {
      "cell_type": "markdown",
      "metadata": {
        "id": "view-in-github",
        "colab_type": "text"
      },
      "source": [
        "<a href=\"https://colab.research.google.com/github/mdchandpasha/Task/blob/main/oasis_taks.ipynb\" target=\"_parent\"><img src=\"https://colab.research.google.com/assets/colab-badge.svg\" alt=\"Open In Colab\"/></a>"
      ]
    },
    {
      "cell_type": "code",
      "execution_count": null,
      "metadata": {
        "colab": {
          "base_uri": "https://localhost:8080/"
        },
        "id": "iFGvLxo4JUCX",
        "outputId": "2af40f3b-db8c-4565-cd12-0391f33a5758"
      },
      "outputs": [
        {
          "output_type": "stream",
          "name": "stdout",
          "text": [
            "Enter weight:65\n",
            "Enter height:5.5\n",
            "BMI Calculator\n",
            "\n",
            "Your BMI is:2.15\n",
            "Category:Underweight\n"
          ]
        }
      ],
      "source": [
        "# BMI calculat0r\n",
        "weight=float(input(\"Enter weight:\"))\n",
        "height=float(input(\"Enter height:\"))\n",
        "bmi=weight/(height**2)\n",
        "a=\"\"\n",
        "if bmi<18.5:\n",
        "    a=\"Underweight\"\n",
        "elif 18.5<=bmi<24.9:\n",
        "    a=\"Normal weight\"\n",
        "elif 25<=bmi<29.9:\n",
        "    a=\"Overweight\"\n",
        "else:\n",
        "    a=\"Obese\"\n",
        "\n",
        "print(\"BMI Calculator\")\n",
        "print(f\"\\nYour BMI is:{bmi:.2f}\")\n",
        "print(f\"Category:{a}\")"
      ]
    },
    {
      "cell_type": "code",
      "source": [
        "# Random password\n",
        "import random\n",
        "import string\n",
        "import array\n",
        "maximum_len=8\n",
        "password=\"\"\n",
        "for i in range(55,80):\n",
        "    password+=chr(i)\n",
        "for i in range(45,60):\n",
        "    password+=chr(i)\n",
        "for i in range(85,130):\n",
        "    password+=chr(i)\n",
        "for i in range(20,50):\n",
        "    password+=chr(i)\n",
        "\n",
        "\n",
        "\n",
        "length=int(input(\"Enter length of a password:\"))\n",
        "a=\"\".join(random.sample(password,length))\n",
        "print(f\"Yor password is {a}\")"
      ],
      "metadata": {
        "colab": {
          "base_uri": "https://localhost:8080/"
        },
        "id": "Du-GC07UKjDA",
        "outputId": "f504b8f6-57b4-4f9d-aa72-cc2eb443a43a"
      },
      "execution_count": null,
      "outputs": [
        {
          "output_type": "stream",
          "name": "stdout",
          "text": [
            "Enter length of a password:8\n",
            "Yor password is :&;_g,/K\n"
          ]
        }
      ]
    },
    {
      "cell_type": "code",
      "source": [
        "#weather app\n",
        "import requests\n",
        "import json\n",
        "\n",
        "def weather_App(api_key, city):\n",
        "    base_url = \"http://api.openweathermap.org/data/2.5/weather\"\n",
        "    params = {\"q\": city, \"appid\": api_key, \"units\": \"metric\"}\n",
        "\n",
        "    try:\n",
        "        response = requests.get(base_url, params=params)\n",
        "        data = response.json()\n",
        "\n",
        "        if response.status_code == 200:\n",
        "            print(f\"Weather in {city}:\")\n",
        "            print(f\"Temperature: {data['main']['temp']}°C\")\n",
        "            print(f\"Humidity: {data['main']['humidity']}%\")\n",
        "            print(f\"Conditions: {data['weather'][0]['description']}\")\n",
        "        else:\n",
        "            print(f\"Error: {data['message']}\")\n",
        "\n",
        "    except Exception as e:\n",
        "        print(f\"An error occurred: {str(e)}\")\n",
        "\n",
        "\n",
        "if __name__ == \"__main__\":\n",
        "    api_key = \"179a85928546c2d7edd22f8253ef9fab\"\n",
        "    city = input(\"Enter the city name: \")\n",
        "\n",
        "    weather_App(api_key, city)\n"
      ],
      "metadata": {
        "colab": {
          "base_uri": "https://localhost:8080/"
        },
        "id": "z72QlfklLjNW",
        "outputId": "a53a378e-daf4-4c85-be1f-e04b5b8bedf7"
      },
      "execution_count": null,
      "outputs": [
        {
          "output_type": "stream",
          "name": "stdout",
          "text": [
            "Enter the city name: zaheerabad\n",
            "Weather in zaheerabad:\n",
            "Temperature: 18.87°C\n",
            "Humidity: 45%\n",
            "Conditions: clear sky\n"
          ]
        }
      ]
    }
  ]
}